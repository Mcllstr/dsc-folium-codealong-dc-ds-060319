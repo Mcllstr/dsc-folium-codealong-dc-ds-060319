{
 "cells": [
  {
   "cell_type": "markdown",
   "metadata": {},
   "source": [
    "# Folium - Codealong\n",
    "\n",
    "## Introduction \n",
    "\n",
    "In this codealong, we'll take a look at how to create an interactive map using the Folium package. From there, we'll return to APIs in the final lab for the day where you'll make an interactive map from your requests to the API!\n",
    "\n",
    "## Objectives\n",
    "\n",
    "You will be able to: \n",
    "* Create maps with Folium"
   ]
  },
  {
   "cell_type": "markdown",
   "metadata": {},
   "source": [
    "## Creating a Basemap\n",
    "\n",
    "Here we'll take a look at creating a basemap over the London region!"
   ]
  },
  {
   "cell_type": "code",
   "execution_count": 1,
   "metadata": {
    "scrolled": false
   },
   "outputs": [
    {
     "data": {
      "text/html": [
       "<div style=\"width:100%;\"><div style=\"position:relative;width:100%;height:0;padding-bottom:60%;\"><iframe src=\"data:text/html;charset=utf-8;base64,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\" style=\"position:absolute;width:100%;height:100%;left:0;top:0;border:none !important;\" allowfullscreen webkitallowfullscreen mozallowfullscreen></iframe></div></div>"
      ],
      "text/plain": [
       "<folium.folium.Map at 0x7f2b60fa5470>"
      ]
     },
     "execution_count": 1,
     "metadata": {},
     "output_type": "execute_result"
    }
   ],
   "source": [
    "import folium\n",
    "\n",
    "lat = 51.51\n",
    "long = -0.14\n",
    "\n",
    "#Create a map of the area\n",
    "base_map = folium.Map([lat, long], zoom_start=13)\n",
    "base_map"
   ]
  },
  {
   "cell_type": "markdown",
   "metadata": {},
   "source": [
    "## Adding Markers to the Map\n",
    "\n",
    "Great! Now let's take a look at adding little markers to our map!\n",
    "\n",
    "**Note:** you may have to zoom out to see all of the markers!"
   ]
  },
  {
   "cell_type": "code",
   "execution_count": 2,
   "metadata": {},
   "outputs": [
    {
     "data": {
      "text/html": [
       "<div style=\"width:100%;\"><div style=\"position:relative;width:100%;height:0;padding-bottom:60%;\"><iframe src=\"data:text/html;charset=utf-8;base64,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\" style=\"position:absolute;width:100%;height:100%;left:0;top:0;border:none !important;\" allowfullscreen webkitallowfullscreen mozallowfullscreen></iframe></div></div>"
      ],
      "text/plain": [
       "<folium.folium.Map at 0x7f2b60fa5470>"
      ]
     },
     "execution_count": 2,
     "metadata": {},
     "output_type": "execute_result"
    }
   ],
   "source": [
    "import numpy as np\n",
    "\n",
    "#Generate some random locations to add to our map\n",
    "x = [lat + np.random.uniform(-.1,.1) for i in range(20)]\n",
    "y = [long + np.random.uniform(-.1,.1) for i in range(20)]\n",
    "points = list(zip(x, y))\n",
    "for p in points:\n",
    "    lat = p[0]\n",
    "    long = p[1]\n",
    "    marker = folium.Marker(location=[lat, long])\n",
    "    marker.add_to(base_map)\n",
    "base_map"
   ]
  },
  {
   "cell_type": "markdown",
   "metadata": {},
   "source": [
    "## Adding Pop-up Boxes to Our Markers\n",
    "\n",
    "Often we may wish to not only place markers on the map, but to create interactive pop-ups which display information to that location. To do this, we can add a popup to our markers when adding them to the map! "
   ]
  },
  {
   "cell_type": "code",
   "execution_count": null,
   "metadata": {},
   "outputs": [],
   "source": [
    "for p in points:\n",
    "    lat = p[0]\n",
    "    long = p[1]\n",
    "    popup_text = \"Latitude: {}, Longitude: {}\".format(lat,long)\n",
    "    popup = folium.Popup(popup_text, parse_html=True)\n",
    "    marker = folium.Marker(location=[lat, long], popup=popup)\n",
    "    marker.add_to(base_map)\n",
    "base_map"
   ]
  },
  {
   "cell_type": "markdown",
   "metadata": {},
   "source": [
    "Now, if you click on the map markers, you should see a little information box pop up!\n",
    "\n",
    "## Summary \n",
    "\n",
    "In this codealong, we learned how to use Folium to create some cool interactive maps with only a few lines of python code! In the next lab, you'll synthesize your skills for the day together and create an interactive visualization map for data you retrieve from the Yelp API!"
   ]
  }
 ],
 "metadata": {
  "kernelspec": {
   "display_name": "Python 3",
   "language": "python",
   "name": "python3"
  },
  "language_info": {
   "codemirror_mode": {
    "name": "ipython",
    "version": 3
   },
   "file_extension": ".py",
   "mimetype": "text/x-python",
   "name": "python",
   "nbconvert_exporter": "python",
   "pygments_lexer": "ipython3",
   "version": "3.6.6"
  }
 },
 "nbformat": 4,
 "nbformat_minor": 2
}
